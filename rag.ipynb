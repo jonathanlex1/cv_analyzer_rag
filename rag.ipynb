{
 "cells": [
  {
   "cell_type": "code",
   "execution_count": 5,
   "id": "5ae9750c",
   "metadata": {},
   "outputs": [],
   "source": [
    "from langchain_community.document_loaders import PyPDFLoader\n",
    "from langchain_text_splitters import RecursiveCharacterTextSplitter\n",
    "from langchain_ollama import OllamaEmbeddings\n",
    "from langchain_ollama import OllamaLLM\n",
    "from langchain_huggingface import HuggingFaceEmbeddings\n",
    "from langchain_community.vectorstores import FAISS\n",
    "from langchain_core.prompts import ChatPromptTemplate\n",
    "from langchain.chains import create_retrieval_chain\n",
    "from langchain.chains.combine_documents import create_stuff_documents_chain\n",
    "from langchain_core.output_parsers import StrOutputParser\n",
    "from dotenv import load_dotenv"
   ]
  },
  {
   "cell_type": "code",
   "execution_count": 5,
   "id": "dd17d12e",
   "metadata": {},
   "outputs": [
    {
     "data": {
      "text/plain": [
       "[Document(metadata={'producer': 'pdfmake', 'creator': 'pdfmake', 'creationdate': '2025-01-24T06:27:35+00:00', 'title': 'Resume', 'author': 'Kinobi', 'subject': 'Resume', 'keywords': 'Resume', 'source': 'data\\\\cv.pdf', 'total_pages': 1, 'page': 0, 'page_label': '1'}, page_content=\"JONATHAN LEXI FEBRIAN SITOHANG\\n089637074190 | jonathanlexi39@gmail.com | https://www.linkedin.com/in/jonathanlexi/ | https://github.com/jonathanlex1\\nA graduate of Universitas Sumatera Utara with a GPA of 3.71 in computer science who is interested in AI algorithms and capable in \\nPython, SQL, PyTorch, Flask, and Streamlit. Good in problem-solving, collaboration and effective communication, with a love of learning \\nand a dedication to creativity in tackling real-world problems\\nProject Experience\\nAgrisense: Plant Health Monitoring Application based on \\nMulticlass Image Classification to Detect and Diagnose \\nDiseases in Food Plants -  Startup Campus\\nAug 2023 - Dec 2023\\nCapstone Project Kampus Merdeka Batch 5 - Artificial Intelligence\\nDeveloped and refined ideas using the Business Model Canvas to align with goals and create business value.\\nImplemented an EfficientNet-based model for multiclass image classification to diagnose plant diseases (cucumber, potato, tomato). \\nTrained on 2,400 images and tested on 480, achieving 97.73% accuracy.\\nDeployed the model on Streamlit, incorporating detailed information about plant diseases and providing recommendations for suitable \\ntreatments.\\nOptimization Of Multi-Layer Perceptron Neural Network  Using \\nParticle Swarm Optimization And Genetic Algorithm For \\nPredicting Food Security In North Sumatera To Support \\nSustainable Development \\nFeb 2024 - Dec 2024\\nGraduate Project\\nDeveloped an MLP model to predict food security in North Sumatera, optimized using GA and PSO. GA achieved lower MSE (475.59) \\nand faster training time (156.62s) compared to PSO (MSE: 779.96, time: 174.92s).\\nDeveloped a web application using Streamlit to deploy the optimized MLP model for prediction\\nRecycle Symbol Plastic Classification \\nPersonal Project\\nDesigned and developed Convolutional Neural Network (CNN) models from scratch, leveraging PyTorch to build efficient and scalable \\nsolutions.\\nImproved model performance by modifying pretrained architectures, achieving higher accuracy with ResNet (95%) compared to CNN \\n(88%), and effectively reducing model overfitting.\\nDeployed machine learning models into web applications using Flask, ensuring seamless integration and user-friendly accessibility.\\nCoffeeshop Sales Analysis and Forecasting Dashboard \\nSQL, Power BI, Python\\nPersonal Project\\nConducted end-to-end analysis of coffee sales data using SQL, encompassing data cleaning, creation of interactive dashboards in \\nPower BI, and time series forecasting to uncover trends and insights.\\nEducation\\nUniversitas Sumatera Utara - Medan, Sumatera Utara Aug 2020 - Dec 2024\\nBachelor of Computer Science, 3.71/4.00\\nOrganisational Experience\\nIkatan Mahasiswa Ilmu Komputer(IMILKOM) Sep 2022 - Jun 2023\\nFinance and Business Division\\nWork together as a team to identify suitable design concepts that are suited to the requirements of campus people, but especially \\nstudents, and actively participate in the development of product designs that maintain quality standards and represent the \\norganization's identity.\\nTechnical  Skills\\nLanguages: Python, SQL\\nAnalytical Skills: Matplotlib, Seaborn, Power BI\\nLibrary/Frameworks \\ue801: Pytorch, Flask, Streamlit, Pandas, Numpy\")]"
      ]
     },
     "execution_count": 5,
     "metadata": {},
     "output_type": "execute_result"
    }
   ],
   "source": [
    "loader = PyPDFLoader('data\\cv.pdf')\n",
    "docs = loader.load()\n",
    "docs"
   ]
  },
  {
   "cell_type": "code",
   "execution_count": 6,
   "id": "d1757f9c",
   "metadata": {},
   "outputs": [
    {
     "data": {
      "text/plain": [
       "[Document(metadata={'producer': 'pdfmake', 'creator': 'pdfmake', 'creationdate': '2025-01-24T06:27:35+00:00', 'title': 'Resume', 'author': 'Kinobi', 'subject': 'Resume', 'keywords': 'Resume', 'source': 'data\\\\cv.pdf', 'total_pages': 1, 'page': 0, 'page_label': '1'}, page_content='JONATHAN LEXI FEBRIAN SITOHANG\\n089637074190 | jonathanlexi39@gmail.com | https://www.linkedin.com/in/jonathanlexi/ | https://github.com/jonathanlex1\\nA graduate of Universitas Sumatera Utara with a GPA of 3.71 in computer science who is interested in AI algorithms and capable in \\nPython, SQL, PyTorch, Flask, and Streamlit. Good in problem-solving, collaboration and effective communication, with a love of learning \\nand a dedication to creativity in tackling real-world problems\\nProject Experience\\nAgrisense: Plant Health Monitoring Application based on'),\n",
       " Document(metadata={'producer': 'pdfmake', 'creator': 'pdfmake', 'creationdate': '2025-01-24T06:27:35+00:00', 'title': 'Resume', 'author': 'Kinobi', 'subject': 'Resume', 'keywords': 'Resume', 'source': 'data\\\\cv.pdf', 'total_pages': 1, 'page': 0, 'page_label': '1'}, page_content='Project Experience\\nAgrisense: Plant Health Monitoring Application based on \\nMulticlass Image Classification to Detect and Diagnose \\nDiseases in Food Plants -  Startup Campus\\nAug 2023 - Dec 2023\\nCapstone Project Kampus Merdeka Batch 5 - Artificial Intelligence\\nDeveloped and refined ideas using the Business Model Canvas to align with goals and create business value.\\nImplemented an EfficientNet-based model for multiclass image classification to diagnose plant diseases (cucumber, potato, tomato). \\nTrained on 2,400 images and tested on 480, achieving 97.73% accuracy.'),\n",
       " Document(metadata={'producer': 'pdfmake', 'creator': 'pdfmake', 'creationdate': '2025-01-24T06:27:35+00:00', 'title': 'Resume', 'author': 'Kinobi', 'subject': 'Resume', 'keywords': 'Resume', 'source': 'data\\\\cv.pdf', 'total_pages': 1, 'page': 0, 'page_label': '1'}, page_content='Trained on 2,400 images and tested on 480, achieving 97.73% accuracy.\\nDeployed the model on Streamlit, incorporating detailed information about plant diseases and providing recommendations for suitable \\ntreatments.\\nOptimization Of Multi-Layer Perceptron Neural Network  Using \\nParticle Swarm Optimization And Genetic Algorithm For \\nPredicting Food Security In North Sumatera To Support \\nSustainable Development \\nFeb 2024 - Dec 2024\\nGraduate Project\\nDeveloped an MLP model to predict food security in North Sumatera, optimized using GA and PSO. GA achieved lower MSE (475.59)'),\n",
       " Document(metadata={'producer': 'pdfmake', 'creator': 'pdfmake', 'creationdate': '2025-01-24T06:27:35+00:00', 'title': 'Resume', 'author': 'Kinobi', 'subject': 'Resume', 'keywords': 'Resume', 'source': 'data\\\\cv.pdf', 'total_pages': 1, 'page': 0, 'page_label': '1'}, page_content='and faster training time (156.62s) compared to PSO (MSE: 779.96, time: 174.92s).\\nDeveloped a web application using Streamlit to deploy the optimized MLP model for prediction\\nRecycle Symbol Plastic Classification \\nPersonal Project\\nDesigned and developed Convolutional Neural Network (CNN) models from scratch, leveraging PyTorch to build efficient and scalable \\nsolutions.\\nImproved model performance by modifying pretrained architectures, achieving higher accuracy with ResNet (95%) compared to CNN \\n(88%), and effectively reducing model overfitting.'),\n",
       " Document(metadata={'producer': 'pdfmake', 'creator': 'pdfmake', 'creationdate': '2025-01-24T06:27:35+00:00', 'title': 'Resume', 'author': 'Kinobi', 'subject': 'Resume', 'keywords': 'Resume', 'source': 'data\\\\cv.pdf', 'total_pages': 1, 'page': 0, 'page_label': '1'}, page_content='(88%), and effectively reducing model overfitting.\\nDeployed machine learning models into web applications using Flask, ensuring seamless integration and user-friendly accessibility.\\nCoffeeshop Sales Analysis and Forecasting Dashboard \\nSQL, Power BI, Python\\nPersonal Project\\nConducted end-to-end analysis of coffee sales data using SQL, encompassing data cleaning, creation of interactive dashboards in \\nPower BI, and time series forecasting to uncover trends and insights.\\nEducation\\nUniversitas Sumatera Utara - Medan, Sumatera Utara Aug 2020 - Dec 2024\\nBachelor of Computer Science, 3.71/4.00'),\n",
       " Document(metadata={'producer': 'pdfmake', 'creator': 'pdfmake', 'creationdate': '2025-01-24T06:27:35+00:00', 'title': 'Resume', 'author': 'Kinobi', 'subject': 'Resume', 'keywords': 'Resume', 'source': 'data\\\\cv.pdf', 'total_pages': 1, 'page': 0, 'page_label': '1'}, page_content=\"Bachelor of Computer Science, 3.71/4.00\\nOrganisational Experience\\nIkatan Mahasiswa Ilmu Komputer(IMILKOM) Sep 2022 - Jun 2023\\nFinance and Business Division\\nWork together as a team to identify suitable design concepts that are suited to the requirements of campus people, but especially \\nstudents, and actively participate in the development of product designs that maintain quality standards and represent the \\norganization's identity.\\nTechnical  Skills\\nLanguages: Python, SQL\\nAnalytical Skills: Matplotlib, Seaborn, Power BI\\nLibrary/Frameworks \\ue801: Pytorch, Flask, Streamlit, Pandas, Numpy\")]"
      ]
     },
     "execution_count": 6,
     "metadata": {},
     "output_type": "execute_result"
    }
   ],
   "source": [
    "#split document\n",
    "splitter = RecursiveCharacterTextSplitter(chunk_size=600, chunk_overlap=100, separators=['\\n'])\n",
    "docs = splitter.split_documents(docs)\n",
    "docs"
   ]
  },
  {
   "cell_type": "markdown",
   "id": "5af5d411",
   "metadata": {},
   "source": [
    "## Ollama Models"
   ]
  },
  {
   "cell_type": "code",
   "execution_count": null,
   "id": "94ac01bf",
   "metadata": {},
   "outputs": [
    {
     "data": {
      "text/plain": [
       "<langchain_community.vectorstores.faiss.FAISS at 0x1a4b48a2ed0>"
      ]
     },
     "execution_count": 18,
     "metadata": {},
     "output_type": "execute_result"
    }
   ],
   "source": [
    "#embedding \n",
    "embedding_model = OllamaEmbeddings(model='llama3.2')\n",
    "#vectorstoredb \n",
    "faiss_db = FAISS.from_documents(docs, embedding_model)\n",
    "faiss_db"
   ]
  },
  {
   "cell_type": "code",
   "execution_count": 29,
   "id": "3503683b",
   "metadata": {},
   "outputs": [
    {
     "data": {
      "text/plain": [
       "(Document(id='794d022b-9454-4b0d-ac8e-341ae95a5d3b', metadata={'producer': 'pdfmake', 'creator': 'pdfmake', 'creationdate': '2025-01-24T06:27:35+00:00', 'title': 'Resume', 'author': 'Kinobi', 'subject': 'Resume', 'keywords': 'Resume', 'source': 'data\\\\cv.pdf', 'total_pages': 1, 'page': 0, 'page_label': '1'}, page_content='Project Experience\\nAgrisense: Plant Health Monitoring Application based on \\nMulticlass Image Classification to Detect and Diagnose \\nDiseases in Food Plants -  Startup Campus\\nAug 2023 - Dec 2023\\nCapstone Project Kampus Merdeka Batch 5 - Artificial Intelligence\\nDeveloped and refined ideas using the Business Model Canvas to align with goals and create business value.\\nImplemented an EfficientNet-based model for multiclass image classification to diagnose plant diseases (cucumber, potato, tomato). \\nTrained on 2,400 images and tested on 480, achieving 97.73% accuracy.'),\n",
       " np.float32(1.3529248))"
      ]
     },
     "execution_count": 29,
     "metadata": {},
     "output_type": "execute_result"
    }
   ],
   "source": [
    "result = faiss_db.similarity_search_with_score('the job needs Python, Sql, Machine Learning and work experience')\n",
    "result[-1]"
   ]
  },
  {
   "cell_type": "markdown",
   "id": "24edf22c",
   "metadata": {},
   "source": [
    "### Retriever"
   ]
  },
  {
   "cell_type": "code",
   "execution_count": 39,
   "id": "f8b79c2f",
   "metadata": {},
   "outputs": [],
   "source": [
    "#create prompt template\n",
    "prompt = ChatPromptTemplate([\n",
    "    (\"system\", \"You are a professional HR assistant helping evaluate how well a CV fits a job description.\"),\n",
    "    (\"human\", \n",
    "     \"Job Requirement:\\n{input}\\n\\n\"\n",
    "     \"Relevant Content from the CV:\\n{context}\\n\\n\"\n",
    "     \"Analyze the match and list strengths, gaps, and a recommendation.\")\n",
    "])"
   ]
  },
  {
   "cell_type": "code",
   "execution_count": 32,
   "id": "5a83710a",
   "metadata": {},
   "outputs": [],
   "source": [
    "llm = OllamaLLM(model='llama3.2', temperature=0)"
   ]
  },
  {
   "cell_type": "code",
   "execution_count": 44,
   "id": "86784da3",
   "metadata": {},
   "outputs": [
    {
     "data": {
      "text/plain": [
       "RunnableBinding(bound=RunnableBinding(bound=RunnableAssign(mapper={\n",
       "  context: RunnableLambda(format_docs)\n",
       "}), kwargs={}, config={'run_name': 'format_inputs'}, config_factories=[])\n",
       "| ChatPromptTemplate(input_variables=['context', 'input'], input_types={}, partial_variables={}, messages=[SystemMessagePromptTemplate(prompt=PromptTemplate(input_variables=[], input_types={}, partial_variables={}, template='You are a professional HR assistant helping evaluate how well a CV fits a job description.'), additional_kwargs={}), HumanMessagePromptTemplate(prompt=PromptTemplate(input_variables=['context', 'input'], input_types={}, partial_variables={}, template='Job Requirement:\\n{input}\\n\\nRelevant Content from the CV:\\n{context}\\n\\nAnalyze the match and list strengths, gaps, and a recommendation.'), additional_kwargs={})])\n",
       "| OllamaLLM(model='llama3.2', temperature=0.0)\n",
       "| StrOutputParser(), kwargs={}, config={'run_name': 'stuff_documents_chain'}, config_factories=[])"
      ]
     },
     "execution_count": 44,
     "metadata": {},
     "output_type": "execute_result"
    }
   ],
   "source": [
    "document_chain = create_stuff_documents_chain(llm,prompt)\n",
    "document_chain"
   ]
  },
  {
   "cell_type": "code",
   "execution_count": 45,
   "id": "41074fcb",
   "metadata": {},
   "outputs": [
    {
     "data": {
      "text/plain": [
       "RunnableBinding(bound=RunnableAssign(mapper={\n",
       "  context: RunnableBinding(bound=RunnableLambda(lambda x: x['input'])\n",
       "           | VectorStoreRetriever(tags=['FAISS', 'OllamaEmbeddings'], vectorstore=<langchain_community.vectorstores.faiss.FAISS object at 0x000001A4B48A2ED0>, search_kwargs={}), kwargs={}, config={'run_name': 'retrieve_documents'}, config_factories=[])\n",
       "})\n",
       "| RunnableAssign(mapper={\n",
       "    answer: RunnableBinding(bound=RunnableBinding(bound=RunnableAssign(mapper={\n",
       "              context: RunnableLambda(format_docs)\n",
       "            }), kwargs={}, config={'run_name': 'format_inputs'}, config_factories=[])\n",
       "            | ChatPromptTemplate(input_variables=['context', 'input'], input_types={}, partial_variables={}, messages=[SystemMessagePromptTemplate(prompt=PromptTemplate(input_variables=[], input_types={}, partial_variables={}, template='You are a professional HR assistant helping evaluate how well a CV fits a job description.'), additional_kwargs={}), HumanMessagePromptTemplate(prompt=PromptTemplate(input_variables=['context', 'input'], input_types={}, partial_variables={}, template='Job Requirement:\\n{input}\\n\\nRelevant Content from the CV:\\n{context}\\n\\nAnalyze the match and list strengths, gaps, and a recommendation.'), additional_kwargs={})])\n",
       "            | OllamaLLM(model='llama3.2', temperature=0.0)\n",
       "            | StrOutputParser(), kwargs={}, config={'run_name': 'stuff_documents_chain'}, config_factories=[])\n",
       "  }), kwargs={}, config={'run_name': 'retrieval_chain'}, config_factories=[])"
      ]
     },
     "execution_count": 45,
     "metadata": {},
     "output_type": "execute_result"
    }
   ],
   "source": [
    "retriever = faiss_db.as_retriever()\n",
    "retriever_chain = create_retrieval_chain(retriever, document_chain)\n",
    "retriever_chain"
   ]
  },
  {
   "cell_type": "code",
   "execution_count": 54,
   "id": "1298dbcf",
   "metadata": {},
   "outputs": [
    {
     "data": {
      "text/plain": [
       "\"Based on the job requirement and the CV provided, here's an analysis of the match:\\n\\n**Strengths:**\\n\\n1. Relevant technical skills: The candidate has expertise in Python, SQL, machine learning libraries (scikit-learn, LGBM, XGBoost), and data processing libraries (Pandas, Numpy).\\n2. Experience with cloud-based technologies: Although not explicitly stated, the candidate's experience with GCP is implied through their work on the Agrisense project.\\n3. Familiarity with machine learning models: The candidate has worked on various projects involving machine learning models, including Convolutional Neural Networks (CNN) and EfficientNet-based models.\\n4. Analytical skills: The candidate has demonstrated analytical skills through their work on data analysis and visualization tools like Power BI and Streamlit.\\n\\n**Gaps:**\\n\\n1. Lack of direct experience in credit risk modeling or loan portfolio analytics: Although the candidate has worked with large-scale datasets, there is no explicit mention of experience in credit risk modeling or loan portfolio analytics.\\n2. Limited experience with Docker for scalable model deployment: The candidate mentions using Docker but does not provide specific details about their experience with it.\\n3. No mention of expertise in financial risk assessment: Although the candidate has worked on various projects involving machine learning models, there is no explicit mention of expertise in financial risk assessment.\\n\\n**Recommendation:**\\n\\nTo strengthen the candidate's application, I would recommend:\\n\\n1. Highlighting relevant experience in credit risk modeling or loan portfolio analytics through additional project descriptions or certifications.\\n2. Emphasizing their experience with Docker and scalable model deployment to demonstrate their ability to work with cloud-based technologies.\\n3. Providing more details about their expertise in financial risk assessment, such as case studies or publications.\\n\\nAdditionally, the candidate could consider:\\n\\n1. Taking online courses or attending workshops to gain more knowledge in credit risk modeling, loan portfolio analytics, and financial risk assessment.\\n2. Participating in hackathons or competitions focused on machine learning and data science to demonstrate their skills and build a stronger portfolio.\\n\\nOverall, while the candidate has some relevant skills and experience, there are gaps that need to be addressed to make their application more competitive for the position.\""
      ]
     },
     "execution_count": 54,
     "metadata": {},
     "output_type": "execute_result"
    }
   ],
   "source": [
    "result = retriever_chain.invoke({'input' : \"\"\"\n",
    "\n",
    "Bachelor’s/Master’s/Ph.D. in a quantitative field (Computer Science, Data Science, Statistics, Economics, Finance, or related, 3+ years of experience in data science, preferably with a focus on credit risk modeling, loan portfolio analytics, or financial risk assessment,\n",
    "Strong knowledge of credit risk/anti-fraud in the consumer lending domain,\n",
    "Expertise in Python and machine learning/statistics libraries (scikit-learn, LGBM, XGBoost, etc),\n",
    "Proficiency in SQL and data processing libraries for analyzing large-scale credit and transaction datasets,\n",
    "Experience with cloud-based technologies (GCP preferred) and Docker for scalable model deployment,\n",
    "Ability to translate business objectives into data-driven risk strategies and communicate findings effectively,\n",
    "\n",
    "\"\"\"\n",
    "})\n",
    "result['answer']\n"
   ]
  },
  {
   "cell_type": "markdown",
   "id": "cd1192e3",
   "metadata": {},
   "source": [
    "## HuggingFace Models"
   ]
  },
  {
   "cell_type": "code",
   "execution_count": 8,
   "id": "9dc4d653",
   "metadata": {},
   "outputs": [],
   "source": [
    "import os "
   ]
  },
  {
   "cell_type": "code",
   "execution_count": 9,
   "id": "10ea89a4",
   "metadata": {},
   "outputs": [],
   "source": [
    "load_dotenv()\n",
    "os.environ['huggingfacehub_api_token'] = os.getenv('huggingfacehub_api_token')"
   ]
  },
  {
   "cell_type": "code",
   "execution_count": 10,
   "id": "aa0c766e",
   "metadata": {},
   "outputs": [],
   "source": [
    "huggingfacehub_api_token = os.getenv('huggingfacehub_api_token')"
   ]
  },
  {
   "cell_type": "code",
   "execution_count": 10,
   "id": "d4e67121",
   "metadata": {},
   "outputs": [
    {
     "name": "stderr",
     "output_type": "stream",
     "text": [
      "c:\\Python Learning\\PYTHON-UDEMY\\langchain_project\\cv_rag\\.venv\\Lib\\site-packages\\tqdm\\auto.py:21: TqdmWarning: IProgress not found. Please update jupyter and ipywidgets. See https://ipywidgets.readthedocs.io/en/stable/user_install.html\n",
      "  from .autonotebook import tqdm as notebook_tqdm\n"
     ]
    }
   ],
   "source": [
    "#load embedding hf model \n",
    "hf_embedding_model = HuggingFaceEmbeddings(model='all-MiniLM-L6-v2')"
   ]
  },
  {
   "cell_type": "code",
   "execution_count": 11,
   "id": "ed7d6e74",
   "metadata": {},
   "outputs": [],
   "source": [
    "hf_faiss_db = FAISS.from_documents(docs, hf_embedding_model)"
   ]
  },
  {
   "cell_type": "code",
   "execution_count": 12,
   "id": "a40a7006",
   "metadata": {},
   "outputs": [
    {
     "data": {
      "text/plain": [
       "[Document(id='15b2e821-34b4-4121-95b2-9b14bcc62410', metadata={'producer': 'pdfmake', 'creator': 'pdfmake', 'creationdate': '2025-01-24T06:27:35+00:00', 'title': 'Resume', 'author': 'Kinobi', 'subject': 'Resume', 'keywords': 'Resume', 'source': 'data\\\\cv.pdf', 'total_pages': 1, 'page': 0, 'page_label': '1'}, page_content='(88%), and effectively reducing model overfitting.\\nDeployed machine learning models into web applications using Flask, ensuring seamless integration and user-friendly accessibility.\\nCoffeeshop Sales Analysis and Forecasting Dashboard \\nSQL, Power BI, Python\\nPersonal Project\\nConducted end-to-end analysis of coffee sales data using SQL, encompassing data cleaning, creation of interactive dashboards in \\nPower BI, and time series forecasting to uncover trends and insights.\\nEducation\\nUniversitas Sumatera Utara - Medan, Sumatera Utara Aug 2020 - Dec 2024\\nBachelor of Computer Science, 3.71/4.00'),\n",
       " Document(id='639b0412-0983-47f1-83ba-5f6a744b5cbe', metadata={'producer': 'pdfmake', 'creator': 'pdfmake', 'creationdate': '2025-01-24T06:27:35+00:00', 'title': 'Resume', 'author': 'Kinobi', 'subject': 'Resume', 'keywords': 'Resume', 'source': 'data\\\\cv.pdf', 'total_pages': 1, 'page': 0, 'page_label': '1'}, page_content=\"Bachelor of Computer Science, 3.71/4.00\\nOrganisational Experience\\nIkatan Mahasiswa Ilmu Komputer(IMILKOM) Sep 2022 - Jun 2023\\nFinance and Business Division\\nWork together as a team to identify suitable design concepts that are suited to the requirements of campus people, but especially \\nstudents, and actively participate in the development of product designs that maintain quality standards and represent the \\norganization's identity.\\nTechnical  Skills\\nLanguages: Python, SQL\\nAnalytical Skills: Matplotlib, Seaborn, Power BI\\nLibrary/Frameworks \\ue801: Pytorch, Flask, Streamlit, Pandas, Numpy\"),\n",
       " Document(id='abdf6f31-aae5-4d6f-9567-2f93f96b8d96', metadata={'producer': 'pdfmake', 'creator': 'pdfmake', 'creationdate': '2025-01-24T06:27:35+00:00', 'title': 'Resume', 'author': 'Kinobi', 'subject': 'Resume', 'keywords': 'Resume', 'source': 'data\\\\cv.pdf', 'total_pages': 1, 'page': 0, 'page_label': '1'}, page_content='JONATHAN LEXI FEBRIAN SITOHANG\\n089637074190 | jonathanlexi39@gmail.com | https://www.linkedin.com/in/jonathanlexi/ | https://github.com/jonathanlex1\\nA graduate of Universitas Sumatera Utara with a GPA of 3.71 in computer science who is interested in AI algorithms and capable in \\nPython, SQL, PyTorch, Flask, and Streamlit. Good in problem-solving, collaboration and effective communication, with a love of learning \\nand a dedication to creativity in tackling real-world problems\\nProject Experience\\nAgrisense: Plant Health Monitoring Application based on'),\n",
       " Document(id='aca355d9-f43e-42eb-80da-3b15dbd46ed5', metadata={'producer': 'pdfmake', 'creator': 'pdfmake', 'creationdate': '2025-01-24T06:27:35+00:00', 'title': 'Resume', 'author': 'Kinobi', 'subject': 'Resume', 'keywords': 'Resume', 'source': 'data\\\\cv.pdf', 'total_pages': 1, 'page': 0, 'page_label': '1'}, page_content='and faster training time (156.62s) compared to PSO (MSE: 779.96, time: 174.92s).\\nDeveloped a web application using Streamlit to deploy the optimized MLP model for prediction\\nRecycle Symbol Plastic Classification \\nPersonal Project\\nDesigned and developed Convolutional Neural Network (CNN) models from scratch, leveraging PyTorch to build efficient and scalable \\nsolutions.\\nImproved model performance by modifying pretrained architectures, achieving higher accuracy with ResNet (95%) compared to CNN \\n(88%), and effectively reducing model overfitting.')]"
      ]
     },
     "execution_count": 12,
     "metadata": {},
     "output_type": "execute_result"
    }
   ],
   "source": [
    "result = hf_faiss_db.similarity_search('the job needs Python, Sql, Machine Learning and work experience')\n",
    "result"
   ]
  },
  {
   "cell_type": "markdown",
   "id": "1e3af7af",
   "metadata": {},
   "source": [
    "### Retriever"
   ]
  },
  {
   "cell_type": "code",
   "execution_count": 6,
   "id": "cd325380",
   "metadata": {},
   "outputs": [],
   "source": [
    "from huggingface_hub import InferenceClient\n",
    "from langchain_community.llms import HuggingFaceHub\n",
    "from transformers import pipeline "
   ]
  },
  {
   "cell_type": "code",
   "execution_count": 11,
   "id": "6456a7ea",
   "metadata": {},
   "outputs": [
    {
     "ename": "TypeError",
     "evalue": "InferenceClient.text_generation() got an unexpected keyword argument 'inputs'",
     "output_type": "error",
     "traceback": [
      "\u001b[31m---------------------------------------------------------------------------\u001b[39m",
      "\u001b[31mTypeError\u001b[39m                                 Traceback (most recent call last)",
      "\u001b[36mCell\u001b[39m\u001b[36m \u001b[39m\u001b[32mIn[11]\u001b[39m\u001b[32m, line 7\u001b[39m\n\u001b[32m      4\u001b[39m client = InferenceClient(token=huggingfacehub_api_token)\n\u001b[32m      6\u001b[39m \u001b[38;5;66;03m# Jalankan inferensi\u001b[39;00m\n\u001b[32m----> \u001b[39m\u001b[32m7\u001b[39m response = \u001b[43mclient\u001b[49m\u001b[43m.\u001b[49m\u001b[43mtext_generation\u001b[49m\u001b[43m(\u001b[49m\n\u001b[32m      8\u001b[39m \u001b[43m    \u001b[49m\u001b[43mmodel\u001b[49m\u001b[43m=\u001b[49m\u001b[33;43m\"\u001b[39;49m\u001b[33;43mmicrosoft/Phi-4-reasoning-plus\u001b[39;49m\u001b[33;43m\"\u001b[39;49m\u001b[43m,\u001b[49m\n\u001b[32m      9\u001b[39m \u001b[43m    \u001b[49m\u001b[43minputs\u001b[49m\u001b[43m=\u001b[49m\u001b[33;43m\"\u001b[39;49m\u001b[33;43mWho are you?\u001b[39;49m\u001b[33;43m\"\u001b[39;49m\u001b[43m,\u001b[49m\n\u001b[32m     10\u001b[39m \u001b[43m    \u001b[49m\u001b[43mparameters\u001b[49m\u001b[43m=\u001b[49m\u001b[43m{\u001b[49m\u001b[33;43m\"\u001b[39;49m\u001b[33;43mmax_new_tokens\u001b[39;49m\u001b[33;43m\"\u001b[39;49m\u001b[43m:\u001b[49m\u001b[43m \u001b[49m\u001b[32;43m50\u001b[39;49m\u001b[43m}\u001b[49m\n\u001b[32m     11\u001b[39m \u001b[43m)\u001b[49m\n\u001b[32m     13\u001b[39m \u001b[38;5;28mprint\u001b[39m(response)\n",
      "\u001b[31mTypeError\u001b[39m: InferenceClient.text_generation() got an unexpected keyword argument 'inputs'"
     ]
    }
   ],
   "source": [
    "from huggingface_hub import InferenceClient\n",
    "\n",
    "# Ganti 'your_api_token' dengan token API Anda\n",
    "client = InferenceClient(token=huggingfacehub_api_token)\n",
    "\n",
    "# Jalankan inferensi\n",
    "response = client.text_generation(\n",
    "    model=\"microsoft/Phi-4-reasoning-plus\",\n",
    "    inputs=\"Who are you?\",\n",
    "    parameters={\"max_new_tokens\": 50}\n",
    ")\n",
    "\n",
    "print(response)"
   ]
  },
  {
   "cell_type": "code",
   "execution_count": 9,
   "id": "c15d7569",
   "metadata": {},
   "outputs": [
    {
     "name": "stdout",
     "output_type": "stream",
     "text": [
      "2\n"
     ]
    },
    {
     "data": {
      "text/plain": [
       "NoneType"
      ]
     },
     "execution_count": 9,
     "metadata": {},
     "output_type": "execute_result"
    }
   ],
   "source": [
    "input = 2\n",
    "\n",
    "def inputData(input:int) : \n",
    "    #if not isinstance(input, str) :\n",
    "     #   raise ValueError('data must be string') \n",
    "    print(input)\n",
    "\n",
    "type(inputData(input))   "
   ]
  },
  {
   "cell_type": "code",
   "execution_count": null,
   "id": "77a2c87c",
   "metadata": {},
   "outputs": [],
   "source": []
  }
 ],
 "metadata": {
  "kernelspec": {
   "display_name": ".venv",
   "language": "python",
   "name": "python3"
  },
  "language_info": {
   "codemirror_mode": {
    "name": "ipython",
    "version": 3
   },
   "file_extension": ".py",
   "mimetype": "text/x-python",
   "name": "python",
   "nbconvert_exporter": "python",
   "pygments_lexer": "ipython3",
   "version": "3.11.4"
  }
 },
 "nbformat": 4,
 "nbformat_minor": 5
}
